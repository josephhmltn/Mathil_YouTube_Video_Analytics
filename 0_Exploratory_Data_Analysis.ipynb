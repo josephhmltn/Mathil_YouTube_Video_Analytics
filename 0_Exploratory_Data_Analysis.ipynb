{
  "cells": [
    {
      "cell_type": "code",
      "execution_count": null,
      "id": "c2d16e13-0372-461f-9116-d3ae4707fa3d",
      "metadata": {
        "ExecuteTime": {
          "end_time": "2023-12-14T00:46:49.440445+00:00",
          "start_time": "2023-12-14T00:46:45.848024+00:00"
        },
        "noteable": {
          "cell_type": "code",
          "output_collection_id": "dc162a1c-ef69-4392-91f7-4f7e1290347f"
        }
      },
      "outputs": [],
      "source": [
        "!pip install -q google-api-python-client"
      ]
    },
    {
      "cell_type": "code",
      "execution_count": null,
      "id": "a0f7b74d-14cc-4fae-9913-827eafb7bf76",
      "metadata": {
        "ExecuteTime": {
          "end_time": "2023-12-14T00:46:49.660218+00:00",
          "start_time": "2023-12-14T00:46:49.448952+00:00"
        },
        "noteable": {
          "cell_type": "code",
          "output_collection_id": "7c53ebf5-04a2-4ebb-9394-95e01f42fc03"
        }
      },
      "outputs": [],
      "source": [
        "import os\n",
        "from googleapiclient.discovery import build\n",
        "\n",
        "# Set up the YouTube API client\n",
        "# Removed my API key, will have to create and use your own\n",
        "api_key = '**insert your API key here**'\n",
        "youtube = build('youtube', 'v3', developerKey=api_key)\n",
        "\n",
        "# Define the channel ID\n",
        "# This is for single use ID, if you want multiple IDs\n",
        "# then you will have to modify a couple lines\n",
        "channel_id = 'UCnaP100kTBB_WGM9IiF73yw'\n",
        "\n",
        "# This is for if you use a .env file to store your api key and/or channel ID(s)\n",
        "# from dotenv import load_dotenv\n",
        "# load_dotenv()\n",
        "\n",
        "# api_key = os.getenv('api_key')\n",
        "# channel_id = os.getenv('channel_id')"
      ]
    },
    {
      "cell_type": "code",
      "execution_count": null,
      "id": "f6d4d616-5484-4a34-8618-c2e7a3dfc88e",
      "metadata": {
        "ExecuteTime": {
          "end_time": "2023-12-14T00:46:49.912189+00:00",
          "start_time": "2023-12-14T00:46:49.671990+00:00"
        },
        "noteable": {
          "cell_type": "code",
          "output_collection_id": "c09cc2f4-b02c-4c60-927b-0d2942daeb87"
        }
      },
      "outputs": [],
      "source": [
        "# Fetch channel statistics\n",
        "def get_channel_stats(youtube, channel_id):\n",
        "    request = youtube.channels().list(\n",
        "        part='snippet,contentDetails,statistics',\n",
        "        id=channel_id\n",
        "    )\n",
        "    response = request.execute()\n",
        "    return response\n",
        "\n",
        "channel_stats = get_channel_stats(youtube, channel_id)\n",
        "channel_stats"
      ]
    },
    {
      "cell_type": "code",
      "execution_count": null,
      "id": "072b1cc3-2cdc-4161-91bf-510958d64563",
      "metadata": {
        "ExecuteTime": {
          "end_time": "2023-12-14T00:46:52.136051+00:00",
          "start_time": "2023-12-14T00:46:49.917115+00:00"
        },
        "noteable": {
          "cell_type": "code",
          "output_collection_id": "bf5d6d98-6cc3-40aa-8ee2-21e134b2c786"
        }
      },
      "outputs": [],
      "source": [
        "# Fetch video IDs from the channel\n",
        "def get_video_ids(youtube, channel_id):\n",
        "    video_ids = []\n",
        "    request = youtube.playlistItems().list(\n",
        "        playlistId=channel_stats['items'][0]['contentDetails']['relatedPlaylists']['uploads'],\n",
        "        part='contentDetails',\n",
        "        maxResults=50\n",
        "    )\n",
        "    while request is not None:\n",
        "        response = request.execute()\n",
        "        video_ids += [item['contentDetails']['videoId'] for item in response['items']]\n",
        "        request = youtube.playlistItems().list_next(request, response)\n",
        "    return video_ids\n",
        "\n",
        "video_ids = get_video_ids(youtube, channel_id)\n",
        "len(video_ids)"
      ]
    },
    {
      "cell_type": "code",
      "execution_count": null,
      "id": "ee56c5c0-941c-4c13-8e53-b201ea3e64a8",
      "metadata": {
        "ExecuteTime": {
          "end_time": "2023-12-14T00:47:27.062333+00:00",
          "start_time": "2023-12-14T00:46:52.143983+00:00"
        },
        "noteable": {
          "cell_type": "code",
          "output_collection_id": "51dd0438-335c-4d96-abb5-13201eace57d"
        }
      },
      "outputs": [],
      "source": [
        "# Fetch statistics for each video\n",
        "def get_video_details(youtube, video_ids):\n",
        "    video_details = []\n",
        "    for video_id in video_ids:\n",
        "        request = youtube.videos().list(\n",
        "            part='snippet,statistics',\n",
        "            id=video_id\n",
        "        )\n",
        "        response = request.execute()\n",
        "        video_details.extend(response['items'])\n",
        "    return video_details\n",
        "\n",
        "video_details = get_video_details(youtube, video_ids)\n",
        "len(video_details)"
      ]
    },
    {
      "cell_type": "code",
      "execution_count": null,
      "id": "a1058a65-818b-4636-8d92-68e17897212c",
      "metadata": {
        "ExecuteTime": {
          "end_time": "2023-12-14T00:47:27.289825+00:00",
          "start_time": "2023-12-14T00:47:27.069574+00:00"
        },
        "datalink": {
          "07c88c02-56d0-46ee-b7a5-44a1b9dc2459": {
            "applied_filters": [],
            "dataframe_info": {
              "default_index_used": true,
              "orig_num_cols": 6,
              "orig_num_rows": 1303,
              "orig_size_bytes": 72968,
              "truncated_num_cols": 6,
              "truncated_num_rows": 1303,
              "truncated_size_bytes": 72968,
              "truncated_string_columns": []
            },
            "display_id": "07c88c02-56d0-46ee-b7a5-44a1b9dc2459",
            "dx_settings": {
              "ALLOW_NOTEABLE_ATTRS": true,
              "COLUMN_SAMPLING_METHOD": "outer",
              "DB_LOCATION": ":memory:",
              "DEV_MODE": false,
              "DISPLAY_MAX_COLUMNS": 100,
              "DISPLAY_MAX_ROWS": 50000,
              "DISPLAY_MODE": "simple",
              "ENABLE_ASSIGNMENT": true,
              "ENABLE_DATALINK": true,
              "FLATTEN_COLUMN_VALUES": true,
              "FLATTEN_INDEX_VALUES": false,
              "GENERATE_DEX_METADATA": false,
              "HTML_TABLE_SCHEMA": false,
              "LOG_LEVEL": 30,
              "MAX_RENDER_SIZE_BYTES": 104857600,
              "MAX_STRING_LENGTH": 250,
              "NUM_PAST_SAMPLES_TRACKED": 3,
              "RANDOM_STATE": 12648430,
              "RESET_INDEX_VALUES": false,
              "ROW_SAMPLING_METHOD": "random",
              "SAMPLING_FACTOR": 0.1,
              "SAMPLING_METHOD": "random",
              "STRINGIFY_COLUMN_VALUES": true,
              "STRINGIFY_INDEX_VALUES": false
            },
            "sample_history": [],
            "sampling_time": "2023-12-13T20:54:46.353887",
            "user_variable_name": "df_videos",
            "variable_name": "df_videos"
          },
          "7873b8dd-a6e2-4543-853a-592620c39ecd": {
            "applied_filters": [],
            "dataframe_info": {
              "default_index_used": true,
              "orig_num_cols": 6,
              "orig_num_rows": 5,
              "orig_size_bytes": 280,
              "truncated_num_cols": 6,
              "truncated_num_rows": 5,
              "truncated_size_bytes": 280,
              "truncated_string_columns": []
            },
            "display_id": "7873b8dd-a6e2-4543-853a-592620c39ecd",
            "dx_settings": {
              "ALLOW_NOTEABLE_ATTRS": true,
              "COLUMN_SAMPLING_METHOD": "outer",
              "DB_LOCATION": ":memory:",
              "DEV_MODE": false,
              "DISPLAY_MAX_COLUMNS": 100,
              "DISPLAY_MAX_ROWS": 50000,
              "DISPLAY_MODE": "simple",
              "ENABLE_ASSIGNMENT": true,
              "ENABLE_DATALINK": true,
              "FLATTEN_COLUMN_VALUES": true,
              "FLATTEN_INDEX_VALUES": false,
              "GENERATE_DEX_METADATA": false,
              "HTML_TABLE_SCHEMA": false,
              "LOG_LEVEL": 30,
              "MAX_RENDER_SIZE_BYTES": 104857600,
              "MAX_STRING_LENGTH": 250,
              "NUM_PAST_SAMPLES_TRACKED": 3,
              "RANDOM_STATE": 12648430,
              "RESET_INDEX_VALUES": false,
              "ROW_SAMPLING_METHOD": "random",
              "SAMPLING_FACTOR": 0.1,
              "SAMPLING_METHOD": "random",
              "STRINGIFY_COLUMN_VALUES": true,
              "STRINGIFY_INDEX_VALUES": false
            },
            "sample_history": [],
            "sampling_time": "2023-12-13T20:51:57.058060",
            "user_variable_name": null,
            "variable_name": "unk_dataframe_a8dc1ebc688c4427ae5cf1928ee400ac"
          },
          "97f60665-5549-4cb9-93dd-259ba452121e": {
            "applied_filters": [],
            "dataframe_info": {
              "default_index_used": true,
              "orig_num_cols": 6,
              "orig_num_rows": 1303,
              "orig_size_bytes": 72968,
              "truncated_num_cols": 6,
              "truncated_num_rows": 1303,
              "truncated_size_bytes": 72968,
              "truncated_string_columns": []
            },
            "display_id": "97f60665-5549-4cb9-93dd-259ba452121e",
            "dx_settings": {
              "ALLOW_NOTEABLE_ATTRS": true,
              "COLUMN_SAMPLING_METHOD": "outer",
              "DB_LOCATION": ":memory:",
              "DEV_MODE": false,
              "DISPLAY_MAX_COLUMNS": 100,
              "DISPLAY_MAX_ROWS": 50000,
              "DISPLAY_MODE": "simple",
              "ENABLE_ASSIGNMENT": true,
              "ENABLE_DATALINK": true,
              "FLATTEN_COLUMN_VALUES": true,
              "FLATTEN_INDEX_VALUES": false,
              "GENERATE_DEX_METADATA": false,
              "HTML_TABLE_SCHEMA": false,
              "LOG_LEVEL": 30,
              "MAX_RENDER_SIZE_BYTES": 104857600,
              "MAX_STRING_LENGTH": 250,
              "NUM_PAST_SAMPLES_TRACKED": 3,
              "RANDOM_STATE": 12648430,
              "RESET_INDEX_VALUES": false,
              "ROW_SAMPLING_METHOD": "random",
              "SAMPLING_FACTOR": 0.1,
              "SAMPLING_METHOD": "random",
              "STRINGIFY_COLUMN_VALUES": true,
              "STRINGIFY_INDEX_VALUES": false
            },
            "sample_history": [],
            "sampling_time": "2023-12-14T00:43:51.460246",
            "user_variable_name": "df_videos",
            "variable_name": "df_videos"
          },
          "99b876e7-7e36-475b-bd3c-28b113c44d3f": {
            "applied_filters": [],
            "dataframe_info": {
              "default_index_used": true,
              "orig_num_cols": 6,
              "orig_num_rows": 5,
              "orig_size_bytes": 280,
              "truncated_num_cols": 6,
              "truncated_num_rows": 5,
              "truncated_size_bytes": 280,
              "truncated_string_columns": []
            },
            "display_id": "99b876e7-7e36-475b-bd3c-28b113c44d3f",
            "dx_settings": {
              "ALLOW_NOTEABLE_ATTRS": true,
              "COLUMN_SAMPLING_METHOD": "outer",
              "DB_LOCATION": ":memory:",
              "DEV_MODE": false,
              "DISPLAY_MAX_COLUMNS": 100,
              "DISPLAY_MAX_ROWS": 50000,
              "DISPLAY_MODE": "simple",
              "ENABLE_ASSIGNMENT": true,
              "ENABLE_DATALINK": true,
              "FLATTEN_COLUMN_VALUES": true,
              "FLATTEN_INDEX_VALUES": false,
              "GENERATE_DEX_METADATA": false,
              "HTML_TABLE_SCHEMA": false,
              "LOG_LEVEL": 30,
              "MAX_RENDER_SIZE_BYTES": 104857600,
              "MAX_STRING_LENGTH": 250,
              "NUM_PAST_SAMPLES_TRACKED": 3,
              "RANDOM_STATE": 12648430,
              "RESET_INDEX_VALUES": false,
              "ROW_SAMPLING_METHOD": "random",
              "SAMPLING_FACTOR": 0.1,
              "SAMPLING_METHOD": "random",
              "STRINGIFY_COLUMN_VALUES": true,
              "STRINGIFY_INDEX_VALUES": false
            },
            "sample_history": [],
            "sampling_time": "2023-12-13T20:54:39.559688",
            "user_variable_name": null,
            "variable_name": "unk_dataframe_c4685324f12b4a6db992ae0bcdb95186"
          },
          "dd1bbdcc-1b4f-4546-aab4-5108d63ecf2a": {
            "applied_filters": [],
            "dataframe_info": {
              "default_index_used": true,
              "orig_num_cols": 6,
              "orig_num_rows": 1303,
              "orig_size_bytes": 72968,
              "truncated_num_cols": 6,
              "truncated_num_rows": 1303,
              "truncated_size_bytes": 72968,
              "truncated_string_columns": []
            },
            "display_id": "dd1bbdcc-1b4f-4546-aab4-5108d63ecf2a",
            "dx_settings": {
              "ALLOW_NOTEABLE_ATTRS": true,
              "COLUMN_SAMPLING_METHOD": "outer",
              "DB_LOCATION": ":memory:",
              "DEV_MODE": false,
              "DISPLAY_MAX_COLUMNS": 100,
              "DISPLAY_MAX_ROWS": 50000,
              "DISPLAY_MODE": "simple",
              "ENABLE_ASSIGNMENT": true,
              "ENABLE_DATALINK": true,
              "FLATTEN_COLUMN_VALUES": true,
              "FLATTEN_INDEX_VALUES": false,
              "GENERATE_DEX_METADATA": false,
              "HTML_TABLE_SCHEMA": false,
              "LOG_LEVEL": 30,
              "MAX_RENDER_SIZE_BYTES": 104857600,
              "MAX_STRING_LENGTH": 250,
              "NUM_PAST_SAMPLES_TRACKED": 3,
              "RANDOM_STATE": 12648430,
              "RESET_INDEX_VALUES": false,
              "ROW_SAMPLING_METHOD": "random",
              "SAMPLING_FACTOR": 0.1,
              "SAMPLING_METHOD": "random",
              "STRINGIFY_COLUMN_VALUES": true,
              "STRINGIFY_INDEX_VALUES": false
            },
            "sample_history": [],
            "sampling_time": "2023-12-14T00:47:27.118507",
            "user_variable_name": "df_videos",
            "variable_name": "df_videos"
          }
        },
        "dx": {
          "fieldMetadata": {},
          "simpleTable": false,
          "updated": 1702515102430,
          "views": []
        },
        "noteable": {
          "cell_type": "code",
          "output_collection_id": "888bd033-b7bf-4869-82ad-daf44da89afd"
        }
      },
      "outputs": [],
      "source": [
        "import pandas as pd\n",
        "\n",
        "# Convert video details to DataFrame\n",
        "def videos_to_df(video_details):\n",
        "    videos = []\n",
        "    for video in video_details:\n",
        "        video_info = {\n",
        "            'title': video['snippet']['title'],\n",
        "            'publishedAt': video['snippet']['publishedAt'],\n",
        "            'views': int(video['statistics'].get('viewCount', 0)),\n",
        "            'likes': int(video['statistics'].get('likeCount', 0)),\n",
        "            'dislikes': int(video['statistics'].get('dislikeCount', 0)),\n",
        "            'comments': int(video['statistics'].get('commentCount', 0))\n",
        "        }\n",
        "        videos.append(video_info)\n",
        "    return pd.DataFrame(videos)\n",
        "\n",
        "# Create DataFrame\n",
        "df_videos = videos_to_df(video_details)\n",
        "df_videos"
      ]
    },
    {
      "cell_type": "code",
      "execution_count": null,
      "id": "5490a825-a62a-48f1-9679-cdc05ed362ab",
      "metadata": {
        "ExecuteTime": {
          "end_time": "2023-12-14T00:47:28.645624+00:00",
          "start_time": "2023-12-14T00:47:27.583974+00:00"
        },
        "noteable": {
          "cell_type": "code",
          "output_collection_id": "e56e5948-56a9-4b0d-9e28-8738c92e7312"
        }
      },
      "outputs": [],
      "source": [
        "import seaborn as sns\n",
        "import matplotlib.pyplot as plt\n",
        "\n",
        "# Set dark theme for plots\n",
        "sns.set(style='darkgrid')\n",
        "plt.style.use('dark_background')\n",
        "\n",
        "# Plotting video views distribution\n",
        "plt.figure(figsize=(10, 6))\n",
        "sns.histplot(df_videos['views'], kde=True, color='blue')\n",
        "plt.title('Distribution of Video Views')\n",
        "plt.xlabel('Views')\n",
        "plt.ylabel('Frequency')\n",
        "plt.show()"
      ]
    },
    {
      "cell_type": "code",
      "execution_count": null,
      "id": "0e3b7c26-a0f9-4f1d-bf5e-6504aefb6ff2",
      "metadata": {
        "ExecuteTime": {
          "end_time": "2023-12-14T00:47:30.426170+00:00",
          "start_time": "2023-12-14T00:47:28.891879+00:00"
        },
        "noteable": {
          "cell_type": "code",
          "output_collection_id": "ee2c3125-86ff-45aa-9927-485e5a40aa92"
        }
      },
      "outputs": [],
      "source": [
        "# Convert 'publishedAt' to datetime\n",
        "df_videos['publishedAt'] = pd.to_datetime(df_videos['publishedAt'])\n",
        "\n",
        "# Plotting likes and comments over time\n",
        "plt.figure(figsize=(12, 6))\n",
        "sns.lineplot(data=df_videos, x='publishedAt', y='likes', label='Likes', color='blue')\n",
        "sns.lineplot(data=df_videos, x='publishedAt', y='comments', label='Comments', color='green')\n",
        "plt.title('Likes and Comments Over Time')\n",
        "plt.xlabel('Time')\n",
        "plt.ylabel('Count')\n",
        "plt.legend()\n",
        "plt.show()"
      ]
    },
    {
      "cell_type": "code",
      "execution_count": null,
      "id": "2a6c3cf9-8550-4642-96c1-3c4f7da323ea",
      "metadata": {
        "ExecuteTime": {
          "end_time": "2023-12-14T00:47:31.007301+00:00",
          "start_time": "2023-12-14T00:47:30.581559+00:00"
        },
        "noteable": {
          "cell_type": "code",
          "output_collection_id": "a1ef4a88-3883-482f-919b-6e8ab9d7652c"
        }
      },
      "outputs": [],
      "source": [
        "# Analyzing number of videos uploaded over time\n",
        "df_videos['year'] = df_videos['publishedAt'].dt.year\n",
        "video_count_by_year = df_videos.groupby('year').size()\n",
        "\n",
        "# Plotting number of videos uploaded each year\n",
        "plt.figure(figsize=(10, 6))\n",
        "sns.barplot(x=video_count_by_year.index, y=video_count_by_year.values, palette='Blues_r')\n",
        "plt.title('Number of Videos Uploaded Each Year')\n",
        "plt.xlabel('Year')\n",
        "plt.ylabel('Number of Videos')\n",
        "plt.xticks(rotation=45)\n",
        "plt.show()"
      ]
    },
    {
      "cell_type": "code",
      "execution_count": null,
      "id": "f2ca547f-73cf-4d6f-a378-795b2ef2a731",
      "metadata": {
        "ExecuteTime": {
          "end_time": "2023-12-14T00:47:31.418958+00:00",
          "start_time": "2023-12-14T00:47:31.254295+00:00"
        },
        "noteable": {
          "cell_type": "code",
          "output_collection_id": "170d18c0-aca1-4532-8818-246ffcc69131"
        }
      },
      "outputs": [],
      "source": [
        "# Top 10 videos for likes, comments, and view count\n",
        "top_10_likes = df_videos.nlargest(10, 'likes')[['title', 'likes']]\n",
        "top_10_comments = df_videos.nlargest(10, 'comments')[['title', 'comments']]\n",
        "top_10_views = df_videos.nlargest(10, 'views')[['title', 'views']]\n",
        "\n",
        "# Displaying the top 10 videos\n",
        "top_10_likes, top_10_comments, top_10_views"
      ]
    },
    {
      "cell_type": "code",
      "execution_count": null,
      "id": "faa3fabd-6309-449b-8453-db4a11d8ea23",
      "metadata": {
        "ExecuteTime": {
          "end_time": "2023-12-14T00:47:31.888107+00:00",
          "start_time": "2023-12-14T00:47:31.424051+00:00"
        },
        "noteable": {
          "cell_type": "code",
          "output_collection_id": "51df0427-4829-4017-927c-6ac1b41f09a5"
        }
      },
      "outputs": [],
      "source": [
        "# Visualizing Top 10 Videos by Likes\n",
        "plt.figure(figsize=(10, 6))\n",
        "sns.barplot(x='likes', y='title', data=top_10_likes, palette='Blues_r')\n",
        "plt.title('Top 10 Videos by Likes')\n",
        "plt.xlabel('Likes')\n",
        "plt.ylabel('Video Title')\n",
        "plt.show()"
      ]
    },
    {
      "cell_type": "code",
      "execution_count": null,
      "id": "e3396214-9f8f-4653-86ea-48c4334afebc",
      "metadata": {
        "ExecuteTime": {
          "end_time": "2023-12-14T00:47:32.738030+00:00",
          "start_time": "2023-12-14T00:47:32.285239+00:00"
        },
        "noteable": {
          "cell_type": "code",
          "output_collection_id": "fcb90a3e-2ab7-490e-9f0a-4d86028ebcd5"
        }
      },
      "outputs": [],
      "source": [
        "# Visualizing Top 10 Videos by Comments\n",
        "plt.figure(figsize=(10, 6))\n",
        "sns.barplot(x='comments', y='title', data=top_10_comments, palette='Blues_r')\n",
        "plt.title('Top 10 Videos by Comments')\n",
        "plt.xlabel('Comments')\n",
        "plt.ylabel('Video Title')\n",
        "plt.show()"
      ]
    },
    {
      "cell_type": "code",
      "execution_count": null,
      "id": "55349b7b-005f-4de0-92fb-930f0cd7bb97",
      "metadata": {
        "ExecuteTime": {
          "end_time": "2023-12-14T00:47:33.299609+00:00",
          "start_time": "2023-12-14T00:47:32.879000+00:00"
        },
        "noteable": {
          "cell_type": "code",
          "output_collection_id": "02a4bf34-00ae-40ce-ac3f-d2804abd5338"
        }
      },
      "outputs": [],
      "source": [
        "# Visualizing Top 10 Videos by Views\n",
        "plt.figure(figsize=(10, 6))\n",
        "sns.barplot(x='views', y='title', data=top_10_views, palette='Blues_r')\n",
        "plt.title('Top 10 Videos by Views')\n",
        "plt.xlabel('Views')\n",
        "plt.ylabel('Video Title')\n",
        "plt.show()"
      ]
    },
    {
      "cell_type": "code",
      "execution_count": null,
      "id": "87ad52f6-f32a-474e-9ef5-b893f16a3603",
      "metadata": {
        "ExecuteTime": {
          "end_time": "2023-12-14T00:47:33.969175+00:00",
          "start_time": "2023-12-14T00:47:33.508350+00:00"
        },
        "noteable": {
          "cell_type": "code",
          "output_collection_id": "1d5555df-b3ac-4891-a7b4-931b8b31d764"
        }
      },
      "outputs": [],
      "source": [
        "# Analyzing the month with the most video uploads\n",
        "df_videos['month'] = df_videos['publishedAt'].dt.month\n",
        "video_count_by_month = df_videos.groupby('month').size()\n",
        "\n",
        "# Plotting number of videos uploaded each month\n",
        "plt.figure(figsize=(10, 6))\n",
        "sns.barplot(x=video_count_by_month.index, y=video_count_by_month.values, palette='Blues_r')\n",
        "plt.title('Number of Videos Uploaded Each Month')\n",
        "plt.xlabel('Month')\n",
        "plt.ylabel('Number of Videos')\n",
        "plt.xticks(range(0, 12), ['Jan', 'Feb', 'Mar', 'Apr', 'May', 'Jun', 'Jul', 'Aug', 'Sep', 'Oct', 'Nov', 'Dec'])\n",
        "plt.show()"
      ]
    },
    {
      "cell_type": "code",
      "execution_count": null,
      "id": "59b68cf2-4192-482f-97b7-f72d9e10fe8f",
      "metadata": {
        "ExecuteTime": {
          "end_time": "2023-12-14T00:47:35.318364+00:00",
          "start_time": "2023-12-14T00:47:34.137877+00:00"
        },
        "noteable": {
          "cell_type": "code",
          "output_collection_id": "21e00018-7f4d-432c-8915-6419004f802a"
        }
      },
      "outputs": [],
      "source": [
        "# Creating a year-month column for comparison\n",
        "df_videos['year_month'] = df_videos['publishedAt'].dt.strftime('%Y-%m')\n",
        "\n",
        "# Grouping data by year and month\n",
        "video_count_by_year_month = df_videos.groupby('year_month').size().reset_index(name='count')\n",
        "\n",
        "# Plotting video uploads per month per year\n",
        "plt.figure(figsize=(15, 8))\n",
        "sns.lineplot(data=video_count_by_year_month, x='year_month', y='count')\n",
        "plt.title('Video Uploads Per Month Over the Years')\n",
        "plt.xlabel('Year-Month')\n",
        "plt.ylabel('Number of Videos')\n",
        "plt.xticks(rotation=45)\n",
        "plt.show()"
      ]
    },
    {
      "cell_type": "code",
      "execution_count": null,
      "id": "f1073581-4f17-4c93-88af-14ba13ea7d3f",
      "metadata": {
        "ExecuteTime": {
          "end_time": "2023-12-14T00:47:36.497450+00:00",
          "start_time": "2023-12-14T00:47:35.430559+00:00"
        },
        "noteable": {
          "cell_type": "code",
          "output_collection_id": "002cd9c0-a715-4ba9-8993-3cc2ef7a4154"
        }
      },
      "outputs": [],
      "source": [
        "# Plotting video uploads per month per year using a scatterplot without vertical lines\n",
        "plt.figure(figsize=(15, 8))\n",
        "sns.scatterplot(data=video_count_by_year_month, x='year_month', y='count')\n",
        "plt.title('Video Uploads Per Month Over the Years (Scatterplot)')\n",
        "plt.xlabel('Year-Month')\n",
        "plt.ylabel('Number of Videos')\n",
        "plt.xticks(rotation=45)\n",
        "plt.grid(False)\n",
        "plt.show()"
      ]
    },
    {
      "cell_type": "code",
      "execution_count": null,
      "id": "d93e4880-a0eb-4ba2-8fa9-6bbad1fc6ba2",
      "metadata": {
        "ExecuteTime": {
          "end_time": "2023-12-14T00:47:37.564724+00:00",
          "start_time": "2023-12-14T00:47:36.980626+00:00"
        },
        "noteable": {
          "cell_type": "code",
          "output_collection_id": "b86d0481-f511-4de2-bb47-20ac31be2301"
        }
      },
      "outputs": [],
      "source": [
        "# Adjusting the scatterplot with larger dots\n",
        "df_videos['year'] = df_videos['publishedAt'].dt.year\n",
        "df_videos['month'] = df_videos['publishedAt'].dt.month\n",
        "\n",
        "# Grouping data by year and month\n",
        "video_count_by_year_month = df_videos.groupby(['year', 'month']).size().reset_index(name='count')\n",
        "\n",
        "# Plotting with year bins, color by month, and larger dots\n",
        "plt.figure(figsize=(15, 8))\n",
        "sns.scatterplot(data=video_count_by_year_month, x='year', y='count', hue='month', palette='bright', s=100) # Increased dot size\n",
        "plt.title('Video Uploads Per Year with Monthly Color Coding')\n",
        "plt.xlabel('Year')\n",
        "plt.ylabel('Number of Videos')\n",
        "plt.xticks(video_count_by_year_month['year'].unique())\n",
        "plt.legend(title='Month', labels=['Jan', 'Feb', 'Mar', 'Apr', 'May', 'Jun', 'Jul', 'Aug', 'Sep', 'Oct', 'Nov', 'Dec'])\n",
        "plt.show()"
      ]
    },
    {
      "cell_type": "code",
      "execution_count": null,
      "id": "75d8fc93-7296-4793-b2b8-1a7aade02f1b",
      "metadata": {
        "ExecuteTime": {
          "end_time": "2023-12-14T00:47:40.428659+00:00",
          "start_time": "2023-12-14T00:47:37.711935+00:00"
        },
        "jupyter": {
          "outputs_hidden": true
        },
        "noteable": {
          "cell_type": "code",
          "output_collection_id": "e358073e-3be5-4aca-83dd-6660ec1f60df"
        }
      },
      "outputs": [],
      "source": [
        "!pip install wordcloud"
      ]
    },
    {
      "cell_type": "code",
      "execution_count": null,
      "id": "816eacc1-1316-4482-b49e-0a056e08ecea",
      "metadata": {
        "ExecuteTime": {
          "end_time": "2023-12-14T00:47:41.705867+00:00",
          "start_time": "2023-12-14T00:47:40.435724+00:00"
        },
        "noteable": {
          "cell_type": "code",
          "output_collection_id": "e22391cd-b5b6-4c06-8ebc-6da2943f18aa"
        }
      },
      "outputs": [],
      "source": [
        "from wordcloud import WordCloud\n",
        "\n",
        "# Generating a word cloud from video titles\n",
        "all_titles = ' '.join(df_videos['title'])\n",
        "wordcloud = WordCloud(width = 800, height = 800,\n",
        "                background_color ='black',\n",
        "                min_font_size = 10).generate(all_titles)\n",
        "\n",
        "# Displaying the word cloud\n",
        "plt.figure(figsize = (8, 8), facecolor = None)\n",
        "plt.imshow(wordcloud)\n",
        "plt.axis('off')\n",
        "plt.tight_layout(pad = 0)\n",
        "\n",
        "plt.show()"
      ]
    },
    {
      "cell_type": "code",
      "execution_count": null,
      "id": "3f2d7ec8-4187-4822-9823-2390b4abbf05",
      "metadata": {
        "ExecuteTime": {
          "end_time": "2023-12-14T00:48:50.287571+00:00",
          "start_time": "2023-12-14T00:48:49.228202+00:00"
        },
        "noteable": {
          "cell_type": "code",
          "output_collection_id": "a5f2582d-acb2-4b65-ab4b-16c352e511a7"
        }
      },
      "outputs": [],
      "source": [
        "# Calculating Engagement Ratios\n",
        "df_videos['like_ratio'] = df_videos['likes'] / df_videos['views']\n",
        "df_videos['comment_ratio'] = df_videos['comments'] / df_videos['views']\n",
        "df_videos['dislike_ratio'] = df_videos['dislikes'] / df_videos['views']\n",
        "\n",
        "# Plotting Engagement Ratios\n",
        "plt.figure(figsize=(15, 5))\n",
        "plt.subplot(1, 3, 1)\n",
        "sns.histplot(df_videos['like_ratio'], kde=True, color='blue')\n",
        "plt.title('Like Ratio Distribution')\n",
        "plt.xlabel('Like Ratio')\n",
        "plt.ylabel('Frequency')\n",
        "\n",
        "plt.subplot(1, 3, 2)\n",
        "sns.histplot(df_videos['comment_ratio'], kde=True, color='green')\n",
        "plt.title('Comment Ratio Distribution')\n",
        "plt.xlabel('Comment Ratio')\n",
        "\n",
        "plt.tight_layout()\n",
        "plt.show()"
      ]
    },
    {
      "cell_type": "code",
      "execution_count": null,
      "id": "bcf10d6e-82a2-4040-a443-4a41330367ca",
      "metadata": {
        "ExecuteTime": {
          "end_time": "2023-12-14T00:47:44.898982+00:00",
          "start_time": "2023-12-14T00:47:43.971894+00:00"
        },
        "noteable": {
          "cell_type": "code",
          "output_collection_id": "ac67274b-e850-421c-8904-86b9c9ead0d5"
        }
      },
      "outputs": [],
      "source": [
        "# Trend Analysis for Likes, Comments, and Views with tilted X-axis labels\n",
        "df_videos['year'] = df_videos['publishedAt'].dt.year\n",
        "\n",
        "# Calculating yearly averages\n",
        "yearly_avg = df_videos.groupby('year').agg({'views':'mean', 'likes':'mean', 'comments':'mean'}).reset_index()\n",
        "\n",
        "# Plotting Trend Analysis with tilted X-axis labels\n",
        "plt.figure(figsize=(15, 5))\n",
        "plt.subplot(1, 3, 1)\n",
        "sns.lineplot(data=yearly_avg, x='year', y='views', color='blue')\n",
        "plt.title('Yearly Average Views')\n",
        "plt.xlabel('Year')\n",
        "plt.ylabel('Average Views')\n",
        "plt.xticks(yearly_avg['year'].unique(), rotation=45)\n",
        "plt.grid(axis='y', linestyle='-')\n",
        "plt.grid(axis='x', linestyle=':')\n",
        "\n",
        "plt.subplot(1, 3, 2)\n",
        "sns.lineplot(data=yearly_avg, x='year', y='likes', color='green')\n",
        "plt.title('Yearly Average Likes')\n",
        "plt.xlabel('Year')\n",
        "plt.xticks(yearly_avg['year'].unique(), rotation=45)\n",
        "plt.grid(axis='y', linestyle='-')\n",
        "plt.grid(axis='x', linestyle=':')\n",
        "\n",
        "plt.subplot(1, 3, 3)\n",
        "sns.lineplot(data=yearly_avg, x='year', y='comments', color='red')\n",
        "plt.title('Yearly Average Comments')\n",
        "plt.xlabel('Year')\n",
        "plt.xticks(yearly_avg['year'].unique(), rotation=45)\n",
        "plt.grid(axis='y', linestyle='-')\n",
        "plt.grid(axis='x', linestyle=':')\n",
        "\n",
        "plt.tight_layout()\n",
        "plt.show()"
      ]
    },
    {
      "cell_type": "code",
      "execution_count": null,
      "id": "82c81995-470b-4caa-874d-641ac58acf7c",
      "metadata": {
        "ExecuteTime": {
          "end_time": "2023-12-14T00:48:23.841127+00:00",
          "start_time": "2023-12-14T00:47:45.410074+00:00"
        },
        "datalink": {
          "0224f700-a4a4-4313-b1fc-88710d912868": {
            "applied_filters": [],
            "dataframe_info": {
              "default_index_used": true,
              "orig_num_cols": 13,
              "orig_num_rows": 5,
              "orig_size_bytes": 560,
              "truncated_num_cols": 13,
              "truncated_num_rows": 5,
              "truncated_size_bytes": 560,
              "truncated_string_columns": []
            },
            "display_id": "0224f700-a4a4-4313-b1fc-88710d912868",
            "dx_settings": {
              "ALLOW_NOTEABLE_ATTRS": true,
              "COLUMN_SAMPLING_METHOD": "outer",
              "DB_LOCATION": ":memory:",
              "DEV_MODE": false,
              "DISPLAY_MAX_COLUMNS": 100,
              "DISPLAY_MAX_ROWS": 50000,
              "DISPLAY_MODE": "simple",
              "ENABLE_ASSIGNMENT": true,
              "ENABLE_DATALINK": true,
              "FLATTEN_COLUMN_VALUES": true,
              "FLATTEN_INDEX_VALUES": false,
              "GENERATE_DEX_METADATA": false,
              "HTML_TABLE_SCHEMA": false,
              "LOG_LEVEL": 30,
              "MAX_RENDER_SIZE_BYTES": 104857600,
              "MAX_STRING_LENGTH": 250,
              "NUM_PAST_SAMPLES_TRACKED": 3,
              "RANDOM_STATE": 12648430,
              "RESET_INDEX_VALUES": false,
              "ROW_SAMPLING_METHOD": "random",
              "SAMPLING_FACTOR": 0.1,
              "SAMPLING_METHOD": "random",
              "STRINGIFY_COLUMN_VALUES": true,
              "STRINGIFY_INDEX_VALUES": false
            },
            "sample_history": [],
            "sampling_time": "2023-12-14T00:48:23.679586",
            "user_variable_name": null,
            "variable_name": "unk_dataframe_46bae8ecf5064b4c908197b636d891cd"
          },
          "ea9a6d4e-4585-468b-b8ac-8d9a5e49d4ad": {
            "applied_filters": [],
            "dataframe_info": {
              "default_index_used": true,
              "orig_num_cols": 13,
              "orig_num_rows": 5,
              "orig_size_bytes": 560,
              "truncated_num_cols": 13,
              "truncated_num_rows": 5,
              "truncated_size_bytes": 560,
              "truncated_string_columns": []
            },
            "display_id": "ea9a6d4e-4585-468b-b8ac-8d9a5e49d4ad",
            "dx_settings": {
              "ALLOW_NOTEABLE_ATTRS": true,
              "COLUMN_SAMPLING_METHOD": "outer",
              "DB_LOCATION": ":memory:",
              "DEV_MODE": false,
              "DISPLAY_MAX_COLUMNS": 100,
              "DISPLAY_MAX_ROWS": 50000,
              "DISPLAY_MODE": "simple",
              "ENABLE_ASSIGNMENT": true,
              "ENABLE_DATALINK": true,
              "FLATTEN_COLUMN_VALUES": true,
              "FLATTEN_INDEX_VALUES": false,
              "GENERATE_DEX_METADATA": false,
              "HTML_TABLE_SCHEMA": false,
              "LOG_LEVEL": 30,
              "MAX_RENDER_SIZE_BYTES": 104857600,
              "MAX_STRING_LENGTH": 250,
              "NUM_PAST_SAMPLES_TRACKED": 3,
              "RANDOM_STATE": 12648430,
              "RESET_INDEX_VALUES": false,
              "ROW_SAMPLING_METHOD": "random",
              "SAMPLING_FACTOR": 0.1,
              "SAMPLING_METHOD": "random",
              "STRINGIFY_COLUMN_VALUES": true,
              "STRINGIFY_INDEX_VALUES": false
            },
            "sample_history": [],
            "sampling_time": "2023-12-13T22:42:00.957531",
            "user_variable_name": null,
            "variable_name": "unk_dataframe_0c31242183e448b3b9653c0229bf660e"
          }
        },
        "noteable": {
          "cell_type": "code",
          "output_collection_id": "f63bbc9f-3ec7-4ade-839b-1a2f5b6de4a8"
        }
      },
      "outputs": [],
      "source": [
        "# Fetching video duration for each video\n",
        "def get_video_durations(youtube, video_ids):\n",
        "    video_durations = []\n",
        "    for video_id in video_ids:\n",
        "        request = youtube.videos().list(\n",
        "            part='contentDetails',\n",
        "            id=video_id\n",
        "        )\n",
        "        response = request.execute()\n",
        "        duration = response['items'][0]['contentDetails']['duration']\n",
        "        video_durations.append(duration)\n",
        "    return video_durations\n",
        "\n",
        "video_durations = get_video_durations(youtube, video_ids)\n",
        "df_videos['duration'] = video_durations\n",
        "df_videos.head()"
      ]
    },
    {
      "cell_type": "code",
      "execution_count": null,
      "id": "98fa4f95-8d5e-4fc2-b28f-aad60fa71059",
      "metadata": {
        "ExecuteTime": {
          "end_time": "2023-12-14T00:48:26.485673+00:00",
          "start_time": "2023-12-14T00:48:23.848058+00:00"
        },
        "noteable": {
          "cell_type": "code",
          "output_collection_id": "73cfa06f-3480-4a3f-a737-3a211083275c"
        }
      },
      "outputs": [],
      "source": [
        "!pip install isodate"
      ]
    },
    {
      "cell_type": "code",
      "execution_count": null,
      "id": "9f673e09-b6e8-4c86-8b05-3b1aa9756eb0",
      "metadata": {
        "ExecuteTime": {
          "end_time": "2023-12-14T00:48:27.057615+00:00",
          "start_time": "2023-12-14T00:48:26.492723+00:00"
        },
        "noteable": {
          "cell_type": "code",
          "output_collection_id": "37d527c6-6988-4a3c-bf09-0522a9dd10c9"
        }
      },
      "outputs": [],
      "source": [
        "import isodate\n",
        "\n",
        "# Converting duration to total seconds\n",
        "df_videos['duration_sec'] = df_videos['duration'].apply(lambda x: isodate.parse_duration(x).total_seconds())\n",
        "\n",
        "# Analyzing correlation of video duration with views, likes, and comments\n",
        "correlation_data = df_videos[['duration_sec', 'views', 'likes', 'comments']].corr()\n",
        "\n",
        "# Plotting the correlation heatmap\n",
        "plt.figure(figsize=(8, 6))\n",
        "sns.heatmap(correlation_data, annot=True, cmap='coolwarm')\n",
        "plt.title('Correlation Heatmap')\n",
        "plt.show()"
      ]
    }
  ],
  "metadata": {
    "kernel_info": {
      "name": "python3"
    },
    "kernelspec": {
      "display_name": "Python 3.9",
      "identifier": "legacy",
      "language": "python",
      "language_version": "3.9",
      "name": "python3"
    },
    "noteable-chatgpt": {
      "create_notebook": {
        "openai_conversation_id": "5317553a-e01f-53db-86ae-42914651c8d5",
        "openai_ephemeral_user_id": "6dc9d9b2-78a8-5d29-b1fc-2000e996e3c4",
        "openai_subdivision1_iso_code": "US-IN"
      }
    },
    "selected_hardware_size": "small"
  },
  "nbformat": 4,
  "nbformat_minor": 5
}
