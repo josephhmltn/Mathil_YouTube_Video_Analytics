{
  "nbformat": 4,
  "nbformat_minor": 5,
  "metadata": {
    "noteable-chatgpt": {
      "create_notebook": {
        "openai_conversation_id": "5317553a-e01f-53db-86ae-42914651c8d5",
        "openai_ephemeral_user_id": "6dc9d9b2-78a8-5d29-b1fc-2000e996e3c4",
        "openai_subdivision1_iso_code": "US-IN"
      }
    },
    "kernel_info": {
      "name": "python3"
    },
    "kernelspec": {
      "display_name": "Python 3.9",
      "identifier": "legacy",
      "language": "python",
      "language_version": "3.9",
      "name": "python3"
    },
    "selected_hardware_size": "small"
  },
  "cells": [
    {
      "id": "c2d16e13-0372-461f-9116-d3ae4707fa3d",
      "cell_type": "code",
      "metadata": {
        "noteable": {
          "cell_type": "code"
        }
      },
      "execution_count": null,
      "source": "!pip install -q google-api-python-client",
      "outputs": []
    }
  ]
}