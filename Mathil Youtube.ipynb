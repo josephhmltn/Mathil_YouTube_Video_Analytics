{
  "cells": [
    {
      "cell_type": "markdown",
      "id": "4490cfa3",
      "metadata": {},
      "source": [
        "# Import libraries"
      ]
    },
    {
      "cell_type": "code",
      "execution_count": 1,
      "id": "62d2fb13",
      "metadata": {},
      "outputs": [],
      "source": [
        "import pandas as pd\n",
        "import matplotlib.pyplot as plt\n",
        "import os\n",
        "import seaborn as sns\n",
        "import warnings\n",
        "from dotenv import load_dotenv\n",
        "from googleapiclient.discovery import build\n",
        "\n",
        "warnings.filterwarnings(\"ignore\")\n",
        "pd.set_option('display.max_rows', 500)"
      ]
    },
    {
      "cell_type": "markdown",
      "id": "95af12e3",
      "metadata": {},
      "source": [
        "## Get environment variables for api key and channel id(s)\n",
        "* *Change appropriate code to use channel_ids if using multiple channel ids within the environment variable*"
      ]
    },
    {
      "cell_type": "code",
      "execution_count": 2,
      "id": "ccb7ef0b",
      "metadata": {},
      "outputs": [],
      "source": [
        "load_dotenv()\n",
        "\n",
        "api_key = os.getenv('api_key')\n",
        "channel_id = os.getenv('channel_id')\n",
        "#channel_ids = os.getenv('channel_ids')\n",
        "\n",
        "youtube = build('youtube', 'v3', developerKey = api_key)"
      ]
    },
    {
      "cell_type": "markdown",
      "id": "3b4d8904",
      "metadata": {},
      "source": [
        "## Function to retrieve channel statistics"
      ]
    },
    {
      "cell_type": "code",
      "execution_count": 3,
      "id": "850ab289",
      "metadata": {},
      "outputs": [],
      "source": [
        "def get_channel_stats(youtube, \n",
        "                      channel_id\n",
        "                      #channel_ids\n",
        "                     ):\n",
        "    all_data = []\n",
        "    request = youtube.channels().list(\n",
        "                part = 'snippet, contentDetails, statistics',\n",
        "                #id = ','.join(channel_ids))\n",
        "                id = channel_id)\n",
        "    response = request.execute()\n",
        "    \n",
        "    for i in range(len(response['items'])):\n",
        "        data = dict(channel_name = response['items'][i]['snippet']['title'],\n",
        "                    subscribers = response['items'][i]['statistics']['subscriberCount'],\n",
        "                    views = response['items'][i]['statistics']['viewCount'],\n",
        "                    total_videos = response['items'][i]['statistics']['videoCount'],\n",
        "                    playlist_id = response['items'][i]['contentDetails']['relatedPlaylists']['uploads'])\n",
        "        all_data.append(data)\n",
        "    return all_data"
      ]
    },
    {
      "cell_type": "code",
      "execution_count": 4,
      "id": "167fbd12",
      "metadata": {},
      "outputs": [],
      "source": [
        "channel_stats = get_channel_stats(youtube, channel_id)"
      ]
    },
    {
      "cell_type": "markdown",
      "id": "10c56fd7",
      "metadata": {},
      "source": [
        "## Load channel stats into pandas dataframe\n",
        "### Data cleaning and processing"
      ]
    },
    {
      "cell_type": "code",
      "execution_count": 5,
      "id": "2a007965",
      "metadata": {},
      "outputs": [],
      "source": [
        "channel_data = pd.DataFrame(channel_stats)"
      ]
    },
    {
      "cell_type": "code",
      "execution_count": 6,
      "id": "97c87d9a",
      "metadata": {
        "noteable": {
          "output_collection_id": "84b50a64-1925-4b42-8128-bb3ed16d59a3"
        }
      },
      "outputs": [],
      "source": [
        "channel_data"
      ]
    },
    {
      "cell_type": "code",
      "execution_count": 7,
      "id": "f61616b1",
      "metadata": {
        "noteable": {
          "output_collection_id": "9cc9f89d-c0f4-445f-bc68-7ec833316394"
        }
      },
      "outputs": [],
      "source": [
        "channel_data.dtypes"
      ]
    },
    {
      "cell_type": "code",
      "execution_count": 8,
      "id": "93a85002",
      "metadata": {
        "noteable": {
          "output_collection_id": "d913f35f-13a1-4c95-ae4e-88141ec8e88c"
        }
      },
      "outputs": [],
      "source": [
        "channel_data['subscribers'] = pd.to_numeric(channel_data['subscribers'])\n",
        "channel_data['views'] = pd.to_numeric(channel_data['views'])\n",
        "channel_data['total_videos'] = pd.to_numeric(channel_data['total_videos'])\n",
        "channel_data.dtypes"
      ]
    },
    {
      "cell_type": "code",
      "execution_count": 9,
      "id": "e0e1943e",
      "metadata": {
        "noteable": {
          "output_collection_id": "b209dd60-5395-454e-a248-3c749d028279"
        }
      },
      "outputs": [],
      "source": [
        "channel_data"
      ]
    },
    {
      "cell_type": "code",
      "execution_count": 10,
      "id": "4f8378be",
      "metadata": {},
      "outputs": [],
      "source": [
        "playlist_id = channel_data.loc[channel_data['channel_name'] == 'Mathilification', 'playlist_id'].iloc[0]"
      ]
    },
    {
      "cell_type": "markdown",
      "id": "5ffbe096",
      "metadata": {},
      "source": [
        "## Functions to retrieve video IDs and video statistics."
      ]
    },
    {
      "cell_type": "code",
      "execution_count": 11,
      "id": "2aa7e30e",
      "metadata": {},
      "outputs": [],
      "source": [
        "def get_video_ids(youtube, playlist_id):\n",
        "    request = youtube.playlistItems().list(\n",
        "                part = 'contentDetails',\n",
        "                playlistId = playlist_id,\n",
        "                maxResults = 50)\n",
        "    response = request.execute()\n",
        "    \n",
        "    video_ids = []\n",
        "    \n",
        "    for i in range(len(response['items'])):\n",
        "        video_ids.append(response['items'][i]['contentDetails']['videoId'])\n",
        "        \n",
        "    next_page_token = response.get('nextPageToken')\n",
        "    more_pages = True\n",
        "    \n",
        "    while more_pages:\n",
        "        if next_page_token is None:\n",
        "            more_pages = False\n",
        "        else:\n",
        "            request = youtube.playlistItems().list(\n",
        "                        part = 'contentDetails',\n",
        "                        playlistId = playlist_id,\n",
        "                        maxResults = 50,\n",
        "                        pageToken = next_page_token)\n",
        "            response = request.execute()\n",
        "            \n",
        "            for i in range(len(response['items'])):\n",
        "                video_ids.append(response['items'][i]['contentDetails']['videoId'])\n",
        "                \n",
        "            next_page_token = response.get('nextPageToken')\n",
        "            \n",
        "    return video_ids"
      ]
    },
    {
      "cell_type": "code",
      "execution_count": 12,
      "id": "bd49f582",
      "metadata": {},
      "outputs": [],
      "source": [
        "video_ids = get_video_ids(youtube, playlist_id)"
      ]
    },
    {
      "cell_type": "code",
      "execution_count": 13,
      "id": "bb58de7b",
      "metadata": {},
      "outputs": [],
      "source": [
        "#video_ids"
      ]
    },
    {
      "cell_type": "code",
      "execution_count": 14,
      "id": "3842a171",
      "metadata": {},
      "outputs": [],
      "source": [
        "def get_video_details(youtube, video_ids):\n",
        "    all_video_stats = []\n",
        "    \n",
        "    for i in range(0, len(video_ids), 50):\n",
        "        request = youtube.videos().list(\n",
        "                    part = 'snippet, statistics',\n",
        "                    id = ','.join(video_ids[i:i+50]))\n",
        "        response = request.execute()\n",
        "        \n",
        "        for video in response['items']:\n",
        "            #if video['id']['kind'] == \"youtube#video\":\n",
        "                video_stats = dict(title = video['snippet']['title'],\n",
        "                                   upload_date = video['snippet']['publishedAt'],\n",
        "                                   view_count = video['statistics']['viewCount'],\n",
        "                                   like_count = video['statistics']['likeCount'],\n",
        "                                   #dislike_count = video['statistics']['dislikeCount'],\n",
        "                                   comment_count = video['statistics']['commentCount'],\n",
        "                                   #favorite_count = video['statistics']['favoriteCount']\n",
        "                                  )\n",
        "                all_video_stats.append(video_stats)\n",
        "    return all_video_stats         "
      ]
    },
    {
      "cell_type": "code",
      "execution_count": 15,
      "id": "93e071d9",
      "metadata": {},
      "outputs": [],
      "source": [
        "video_details = get_video_details(youtube, video_ids)"
      ]
    },
    {
      "cell_type": "markdown",
      "id": "64931552",
      "metadata": {},
      "source": [
        "## Load video statistics into pandas dataframe\n",
        "### Data cleaning and processing"
      ]
    },
    {
      "cell_type": "code",
      "execution_count": 16,
      "id": "7926f9a6",
      "metadata": {},
      "outputs": [],
      "source": [
        "video_data = pd.DataFrame(video_details)"
      ]
    },
    {
      "cell_type": "code",
      "execution_count": 17,
      "id": "1ca08cb8",
      "metadata": {
        "noteable": {
          "output_collection_id": "efedff43-5456-4b99-b7b1-49b38811e819"
        }
      },
      "outputs": [],
      "source": [
        "video_data"
      ]
    },
    {
      "cell_type": "code",
      "execution_count": 18,
      "id": "5174bbf8",
      "metadata": {
        "noteable": {
          "output_collection_id": "75d78d3a-c842-4765-95cd-89c2c7be41bf"
        }
      },
      "outputs": [],
      "source": [
        "video_data.dtypes"
      ]
    },
    {
      "cell_type": "code",
      "execution_count": 19,
      "id": "345aa1ea",
      "metadata": {
        "noteable": {
          "output_collection_id": "94db52d3-b6b8-4137-be48-7a68b9a88d30"
        }
      },
      "outputs": [],
      "source": [
        "video_data['upload_date'] = pd.to_datetime(video_data['upload_date']).dt.date\n",
        "video_data['view_count'] = pd.to_numeric(video_data['view_count'])\n",
        "video_data['like_count'] = pd.to_numeric(video_data['like_count'])\n",
        "video_data['comment_count'] = pd.to_numeric(video_data['comment_count'])\n",
        "video_data"
      ]
    },
    {
      "cell_type": "code",
      "execution_count": 20,
      "id": "c39c888c",
      "metadata": {
        "noteable": {
          "output_collection_id": "d739edcb-de51-4368-bc96-df6db75084ac"
        }
      },
      "outputs": [],
      "source": [
        "top10_by_views = video_data.sort_values(by = 'view_count', ascending = False).head(10)\n",
        "top10_by_views"
      ]
    },
    {
      "cell_type": "markdown",
      "id": "bf53c2e1",
      "metadata": {},
      "source": [
        "## Graphical Analysis"
      ]
    },
    {
      "cell_type": "code",
      "execution_count": 21,
      "id": "7fb2b60b",
      "metadata": {
        "noteable": {
          "output_collection_id": "66e70fbc-97a0-4c31-b244-c7aa045aab4f"
        }
      },
      "outputs": [],
      "source": [
        "bar1 = sns.barplot(data = top10_by_views, x = 'view_count', y = 'title')\n",
        "bar1.set_title(\"Top 10 Videos by View Count\", fontsize = 16)\n",
        "bar1.set_xlabel(\"View Count\")\n",
        "bar1.set_ylabel(\"Video Title\")\n",
        "plt.show()"
      ]
    },
    {
      "cell_type": "code",
      "execution_count": 22,
      "id": "c65482e1",
      "metadata": {
        "noteable": {
          "output_collection_id": "2202e614-3e37-477d-91d6-0dbbac536d7d"
        }
      },
      "outputs": [],
      "source": [
        "video_data['Month'] = pd.to_datetime(video_data['upload_date']).dt.strftime('%b')\n",
        "video_data['Day'] = pd.to_datetime(video_data['upload_date']).dt.strftime('%d')\n",
        "video_data['Year'] = pd.to_datetime(video_data['upload_date']).dt.strftime('%Y')\n",
        "video_data"
      ]
    },
    {
      "cell_type": "code",
      "execution_count": 23,
      "id": "e13c8b07",
      "metadata": {
        "noteable": {
          "output_collection_id": "77a0c143-9729-4090-be31-3d663672a9b6"
        }
      },
      "outputs": [],
      "source": [
        "videos_per_month = video_data.groupby('Month', as_index = False).size()\n",
        "videos_per_month"
      ]
    },
    {
      "cell_type": "code",
      "execution_count": 24,
      "id": "17c15f38",
      "metadata": {},
      "outputs": [],
      "source": [
        "sort_order = ['Jan', 'Feb', 'Mar', 'Apr', 'May', 'Jun', 'Jul', 'Aug', 'Sep', 'Oct', 'Nov', 'Dec']"
      ]
    },
    {
      "cell_type": "code",
      "execution_count": 25,
      "id": "bb003b42",
      "metadata": {},
      "outputs": [],
      "source": [
        "videos_per_month.index = pd.CategoricalIndex(videos_per_month['Month'], categories = sort_order, ordered = True)\n",
        "videos_per_month = videos_per_month.sort_index()"
      ]
    },
    {
      "cell_type": "code",
      "execution_count": 26,
      "id": "94fe2ba3",
      "metadata": {
        "noteable": {
          "output_collection_id": "8a547398-3803-456d-9cf3-24cf9fc63928"
        }
      },
      "outputs": [],
      "source": [
        "videos_per_month"
      ]
    },
    {
      "cell_type": "code",
      "execution_count": 27,
      "id": "bcc69da9",
      "metadata": {
        "noteable": {
          "output_collection_id": "3bab42a2-a336-4039-a59b-6b0c8fd9084a"
        }
      },
      "outputs": [],
      "source": [
        "bar2 = sns.barplot(data = videos_per_month, x = 'Month', y = 'size')\n",
        "bar2.set_ylabel('Number of Videos')\n",
        "bar2.set_title('Videos per Month', fontsize = 16)\n",
        "plt.show()"
      ]
    },
    {
      "cell_type": "code",
      "execution_count": 28,
      "id": "b4d25179",
      "metadata": {},
      "outputs": [],
      "source": [
        "video_data.to_csv('Mathil Youtube.csv')"
      ]
    },
    {
      "cell_type": "code",
      "execution_count": 29,
      "id": "bc988854",
      "metadata": {
        "noteable": {
          "output_collection_id": "23dfa97b-efba-4d15-aeae-98d15122a020"
        }
      },
      "outputs": [],
      "source": [
        "top10_by_likes = video_data.sort_values(by = 'like_count', ascending = False).head(10)\n",
        "top10_by_likes"
      ]
    },
    {
      "cell_type": "code",
      "execution_count": 30,
      "id": "d12a2079",
      "metadata": {
        "noteable": {
          "output_collection_id": "868226db-3e14-4653-a1b0-999b8134906f"
        }
      },
      "outputs": [],
      "source": [
        "bar3 = sns.barplot(data = top10_by_likes, x = 'like_count', y = 'title')\n",
        "bar3.set_title(\"Top 10 Videos by Likes\", fontsize = 16)\n",
        "bar3.set_xlabel(\"Like Count\")\n",
        "bar3.set_ylabel(\"Video Title\")\n",
        "plt.show()"
      ]
    },
    {
      "cell_type": "code",
      "execution_count": 31,
      "id": "0c2f1671",
      "metadata": {
        "noteable": {
          "output_collection_id": "580d0b89-2dec-4b5f-9f5e-bf4822336580"
        }
      },
      "outputs": [],
      "source": [
        "videos_per_year = video_data.groupby('Year', as_index = False).size()\n",
        "videos_per_year"
      ]
    },
    {
      "cell_type": "code",
      "execution_count": 32,
      "id": "47ae584e",
      "metadata": {
        "noteable": {
          "output_collection_id": "9a8cae3a-3693-4cb1-8471-53731ca7f45e"
        }
      },
      "outputs": [],
      "source": [
        "bar4 = sns.barplot(data = videos_per_year, x = 'Year', y = 'size')\n",
        "bar4.set_ylabel('Number of Videos')\n",
        "bar4.set_title('Videos per Year', fontsize = 16)\n",
        "plt.show()"
      ]
    },
    {
      "cell_type": "code",
      "execution_count": 33,
      "id": "544d1d2a",
      "metadata": {
        "noteable": {
          "output_collection_id": "4f4c94e6-d7e4-4382-86b4-37b0974a8712"
        }
      },
      "outputs": [],
      "source": [
        "df = video_data.groupby(['Year', 'Month'], as_index = False).size()\n",
        "df"
      ]
    },
    {
      "cell_type": "code",
      "execution_count": 34,
      "id": "9c21b3a9",
      "metadata": {
        "noteable": {
          "output_collection_id": "f8e1003e-6144-46a5-a983-66fd6012b7fe"
        }
      },
      "outputs": [],
      "source": [
        "scat1 = sns.scatterplot(data = df, x = 'Year', y = 'size', hue_order = sort_order, hue = 'Month')\n",
        "scat1.legend(loc = 'center right', bbox_to_anchor = (1.2, 0.5))\n",
        "scat1.set_title(\"Videos per Year by Month\", fontsize = 16)\n",
        "scat1.set_ylabel(\"Number of Videos\")\n",
        "scat1.grid(which = 'major', color = 'grey', linewidth = 0.1)\n",
        "plt.show()"
      ]
    },
    {
      "cell_type": "code",
      "execution_count": null,
      "id": "be93bea5",
      "metadata": {},
      "outputs": [],
      "source": []
    }
  ],
  "metadata": {
    "kernelspec": {
      "display_name": "Python 3 (ipykernel)",
      "language": "python",
      "name": "python3"
    },
    "language_info": {
      "codemirror_mode": {
        "name": "ipython",
        "version": 3
      },
      "file_extension": ".py",
      "mimetype": "text/x-python",
      "name": "python",
      "nbconvert_exporter": "python",
      "pygments_lexer": "ipython3",
      "version": "3.10.9"
    },
    "selected_hardware_size": "small"
  },
  "nbformat": 4,
  "nbformat_minor": 5
}